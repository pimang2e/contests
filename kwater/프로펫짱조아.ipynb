{
 "cells": [
  {
   "cell_type": "code",
   "execution_count": 6,
   "metadata": {},
   "outputs": [
    {
     "name": "stdout",
     "output_type": "stream",
     "text": [
      "Collecting prophet\n",
      "  Downloading prophet-1.1.1-cp39-cp39-win_amd64.whl (12.1 MB)\n",
      "Collecting holidays>=0.14.2\n",
      "  Using cached holidays-0.17.2-py3-none-any.whl (187 kB)\n",
      "Requirement already satisfied: setuptools>=42 in c:\\users\\ntx550\\anaconda3\\lib\\site-packages (from prophet) (61.2.0)\n",
      "Requirement already satisfied: convertdate>=2.1.2 in c:\\users\\ntx550\\anaconda3\\lib\\site-packages (from prophet) (2.4.0)\n",
      "Requirement already satisfied: matplotlib>=2.0.0 in c:\\users\\ntx550\\anaconda3\\lib\\site-packages (from prophet) (3.5.1)\n",
      "Requirement already satisfied: pandas>=1.0.4 in c:\\users\\ntx550\\anaconda3\\lib\\site-packages (from prophet) (1.4.2)\n",
      "Requirement already satisfied: python-dateutil>=2.8.0 in c:\\users\\ntx550\\anaconda3\\lib\\site-packages (from prophet) (2.8.2)\n",
      "Requirement already satisfied: wheel>=0.37.0 in c:\\users\\ntx550\\anaconda3\\lib\\site-packages (from prophet) (0.37.1)\n",
      "Collecting cmdstanpy>=1.0.4\n",
      "  Downloading cmdstanpy-1.0.8-py3-none-any.whl (81 kB)\n",
      "Collecting LunarCalendar>=0.0.9\n",
      "  Using cached LunarCalendar-0.0.9-py2.py3-none-any.whl (18 kB)\n",
      "Requirement already satisfied: numpy>=1.15.4 in c:\\users\\ntx550\\anaconda3\\lib\\site-packages (from prophet) (1.21.5)\n",
      "Requirement already satisfied: setuptools-git>=1.2 in c:\\users\\ntx550\\anaconda3\\lib\\site-packages (from prophet) (1.2)\n",
      "Requirement already satisfied: tqdm>=4.36.1 in c:\\users\\ntx550\\anaconda3\\lib\\site-packages (from prophet) (4.64.0)\n",
      "Requirement already satisfied: pymeeus<=1,>=0.3.13 in c:\\users\\ntx550\\anaconda3\\lib\\site-packages (from convertdate>=2.1.2->prophet) (0.5.11)\n",
      "Requirement already satisfied: hijri-converter in c:\\users\\ntx550\\anaconda3\\lib\\site-packages (from holidays>=0.14.2->prophet) (2.2.4)\n",
      "Requirement already satisfied: korean-lunar-calendar in c:\\users\\ntx550\\anaconda3\\lib\\site-packages (from holidays>=0.14.2->prophet) (0.3.1)\n",
      "Requirement already satisfied: ephem>=3.7.5.3 in c:\\users\\ntx550\\anaconda3\\lib\\site-packages (from LunarCalendar>=0.0.9->prophet) (4.1.3)\n",
      "Requirement already satisfied: pytz in c:\\users\\ntx550\\anaconda3\\lib\\site-packages (from LunarCalendar>=0.0.9->prophet) (2021.3)\n",
      "Requirement already satisfied: packaging>=20.0 in c:\\users\\ntx550\\anaconda3\\lib\\site-packages (from matplotlib>=2.0.0->prophet) (21.3)\n",
      "Requirement already satisfied: cycler>=0.10 in c:\\users\\ntx550\\anaconda3\\lib\\site-packages (from matplotlib>=2.0.0->prophet) (0.11.0)\n",
      "Requirement already satisfied: pillow>=6.2.0 in c:\\users\\ntx550\\anaconda3\\lib\\site-packages (from matplotlib>=2.0.0->prophet) (9.0.1)\n",
      "Requirement already satisfied: kiwisolver>=1.0.1 in c:\\users\\ntx550\\anaconda3\\lib\\site-packages (from matplotlib>=2.0.0->prophet) (1.3.2)\n",
      "Requirement already satisfied: pyparsing>=2.2.1 in c:\\users\\ntx550\\anaconda3\\lib\\site-packages (from matplotlib>=2.0.0->prophet) (3.0.4)\n",
      "Requirement already satisfied: fonttools>=4.22.0 in c:\\users\\ntx550\\anaconda3\\lib\\site-packages (from matplotlib>=2.0.0->prophet) (4.25.0)\n",
      "Requirement already satisfied: six>=1.5 in c:\\users\\ntx550\\anaconda3\\lib\\site-packages (from python-dateutil>=2.8.0->prophet) (1.16.0)\n",
      "Requirement already satisfied: colorama in c:\\users\\ntx550\\anaconda3\\lib\\site-packages (from tqdm>=4.36.1->prophet) (0.4.4)\n",
      "Installing collected packages: LunarCalendar, holidays, cmdstanpy, prophet\n",
      "Successfully installed LunarCalendar-0.0.9 cmdstanpy-1.0.8 holidays-0.17.2 prophet-1.1.1\n"
     ]
    }
   ],
   "source": [
    "!python -m pip install prophet"
   ]
  },
  {
   "cell_type": "code",
   "execution_count": 30,
   "metadata": {},
   "outputs": [],
   "source": [
    "import pandas as pd\n",
    "import numpy as np\n",
    "from prophet import Prophet\n",
    "import warnings\n"
   ]
  },
  {
   "cell_type": "code",
   "execution_count": 99,
   "metadata": {},
   "outputs": [
    {
     "data": {
      "text/html": [
       "<div>\n",
       "<style scoped>\n",
       "    .dataframe tbody tr th:only-of-type {\n",
       "        vertical-align: middle;\n",
       "    }\n",
       "\n",
       "    .dataframe tbody tr th {\n",
       "        vertical-align: top;\n",
       "    }\n",
       "\n",
       "    .dataframe thead th {\n",
       "        text-align: right;\n",
       "    }\n",
       "</style>\n",
       "<table border=\"1\" class=\"dataframe\">\n",
       "  <thead>\n",
       "    <tr style=\"text-align: right;\">\n",
       "      <th></th>\n",
       "      <th>Unnamed: 0</th>\n",
       "      <th>datetime</th>\n",
       "      <th>integration</th>\n",
       "      <th>year</th>\n",
       "      <th>month</th>\n",
       "      <th>day</th>\n",
       "      <th>time</th>\n",
       "    </tr>\n",
       "  </thead>\n",
       "  <tbody>\n",
       "    <tr>\n",
       "      <th>0</th>\n",
       "      <td>0</td>\n",
       "      <td>2017-01-01 01:00:00</td>\n",
       "      <td>525.0</td>\n",
       "      <td>2017</td>\n",
       "      <td>1</td>\n",
       "      <td>1</td>\n",
       "      <td>1</td>\n",
       "    </tr>\n",
       "    <tr>\n",
       "      <th>1</th>\n",
       "      <td>1</td>\n",
       "      <td>2017-01-01 02:00:00</td>\n",
       "      <td>542.0</td>\n",
       "      <td>2017</td>\n",
       "      <td>1</td>\n",
       "      <td>1</td>\n",
       "      <td>2</td>\n",
       "    </tr>\n",
       "    <tr>\n",
       "      <th>2</th>\n",
       "      <td>2</td>\n",
       "      <td>2017-01-01 03:00:00</td>\n",
       "      <td>392.0</td>\n",
       "      <td>2017</td>\n",
       "      <td>1</td>\n",
       "      <td>1</td>\n",
       "      <td>3</td>\n",
       "    </tr>\n",
       "    <tr>\n",
       "      <th>3</th>\n",
       "      <td>3</td>\n",
       "      <td>2017-01-01 04:00:00</td>\n",
       "      <td>379.0</td>\n",
       "      <td>2017</td>\n",
       "      <td>1</td>\n",
       "      <td>1</td>\n",
       "      <td>4</td>\n",
       "    </tr>\n",
       "    <tr>\n",
       "      <th>4</th>\n",
       "      <td>4</td>\n",
       "      <td>2017-01-01 05:00:00</td>\n",
       "      <td>353.0</td>\n",
       "      <td>2017</td>\n",
       "      <td>1</td>\n",
       "      <td>1</td>\n",
       "      <td>5</td>\n",
       "    </tr>\n",
       "    <tr>\n",
       "      <th>...</th>\n",
       "      <td>...</td>\n",
       "      <td>...</td>\n",
       "      <td>...</td>\n",
       "      <td>...</td>\n",
       "      <td>...</td>\n",
       "      <td>...</td>\n",
       "      <td>...</td>\n",
       "    </tr>\n",
       "    <tr>\n",
       "      <th>35037</th>\n",
       "      <td>35058</td>\n",
       "      <td>2020-12-31 19:00:00</td>\n",
       "      <td>626.0</td>\n",
       "      <td>2020</td>\n",
       "      <td>12</td>\n",
       "      <td>31</td>\n",
       "      <td>19</td>\n",
       "    </tr>\n",
       "    <tr>\n",
       "      <th>35038</th>\n",
       "      <td>35059</td>\n",
       "      <td>2020-12-31 20:00:00</td>\n",
       "      <td>294.0</td>\n",
       "      <td>2020</td>\n",
       "      <td>12</td>\n",
       "      <td>31</td>\n",
       "      <td>20</td>\n",
       "    </tr>\n",
       "    <tr>\n",
       "      <th>35039</th>\n",
       "      <td>35060</td>\n",
       "      <td>2020-12-31 21:00:00</td>\n",
       "      <td>234.0</td>\n",
       "      <td>2020</td>\n",
       "      <td>12</td>\n",
       "      <td>31</td>\n",
       "      <td>21</td>\n",
       "    </tr>\n",
       "    <tr>\n",
       "      <th>35040</th>\n",
       "      <td>35061</td>\n",
       "      <td>2020-12-31 22:00:00</td>\n",
       "      <td>704.0</td>\n",
       "      <td>2020</td>\n",
       "      <td>12</td>\n",
       "      <td>31</td>\n",
       "      <td>22</td>\n",
       "    </tr>\n",
       "    <tr>\n",
       "      <th>35041</th>\n",
       "      <td>35062</td>\n",
       "      <td>2020-12-31 23:00:00</td>\n",
       "      <td>330.0</td>\n",
       "      <td>2020</td>\n",
       "      <td>12</td>\n",
       "      <td>31</td>\n",
       "      <td>23</td>\n",
       "    </tr>\n",
       "  </tbody>\n",
       "</table>\n",
       "<p>35042 rows × 7 columns</p>\n",
       "</div>"
      ],
      "text/plain": [
       "       Unnamed: 0             datetime  integration  year  month  day  time\n",
       "0               0  2017-01-01 01:00:00        525.0  2017      1    1     1\n",
       "1               1  2017-01-01 02:00:00        542.0  2017      1    1     2\n",
       "2               2  2017-01-01 03:00:00        392.0  2017      1    1     3\n",
       "3               3  2017-01-01 04:00:00        379.0  2017      1    1     4\n",
       "4               4  2017-01-01 05:00:00        353.0  2017      1    1     5\n",
       "...           ...                  ...          ...   ...    ...  ...   ...\n",
       "35037       35058  2020-12-31 19:00:00        626.0  2020     12   31    19\n",
       "35038       35059  2020-12-31 20:00:00        294.0  2020     12   31    20\n",
       "35039       35060  2020-12-31 21:00:00        234.0  2020     12   31    21\n",
       "35040       35061  2020-12-31 22:00:00        704.0  2020     12   31    22\n",
       "35041       35062  2020-12-31 23:00:00        330.0  2020     12   31    23\n",
       "\n",
       "[35042 rows x 7 columns]"
      ]
     },
     "execution_count": 99,
     "metadata": {},
     "output_type": "execute_result"
    }
   ],
   "source": [
    "df = pd.read_csv('test_preprocessing.csv',index_col=0)"
   ]
  },
  {
   "cell_type": "code",
   "execution_count": 102,
   "metadata": {},
   "outputs": [],
   "source": [
    "df = df.iloc[:,0:2]"
   ]
  },
  {
   "cell_type": "code",
   "execution_count": 32,
   "metadata": {},
   "outputs": [],
   "source": [
    "test_df = pd.read_csv('test_data (1).csv')"
   ]
  },
  {
   "cell_type": "code",
   "execution_count": 120,
   "metadata": {},
   "outputs": [],
   "source": [
    "df['y'] = df['integration']\n",
    "df['ds'] = df['datetime']"
   ]
  },
  {
   "cell_type": "code",
   "execution_count": null,
   "metadata": {},
   "outputs": [],
   "source": [
    "result = []\n",
    "for i in range(8424):\n",
    "    m = Prophet(    changepoint_prior_scale=0.01,\n",
    "    changepoint_range=0.95,\n",
    "    interval_width=0.95)\n",
    "    m.fit(df)\n",
    "    future = m.make_future_dataframe(periods=336 , freq='H')\n",
    "    forecast = m.predict(future)\n",
    "    result.append(list(forecast.iloc[-336:,-1]))\n",
    "    df.append({'datetime': test_df.iloc[i,0],'integration':test_df.iloc[i,1],'y':test_df.iloc[i,1],'ds':test_df.iloc[i,0]},ignore_index=True)\n",
    "    "
   ]
  },
  {
   "cell_type": "code",
   "execution_count": 122,
   "metadata": {},
   "outputs": [],
   "source": [
    "a = pd.DataFrame(result)\n",
    "a.to_csv('result3.csv')"
   ]
  },
  {
   "cell_type": "code",
   "execution_count": 27,
   "metadata": {},
   "outputs": [
    {
     "data": {
      "text/plain": [
       "[<matplotlib.lines.Line2D at 0x174139dea60>]"
      ]
     },
     "execution_count": 27,
     "metadata": {},
     "output_type": "execute_result"
    },
    {
     "data": {
      "image/png": "[encoded data removed]",
      "text/plain": [
       "<Figure size 432x288 with 1 Axes>"
      ]
     },
     "metadata": {
      "needs_background": "light"
     },
     "output_type": "display_data"
    }
   ],
   "source": [
    "import matplotlib.pyplot as plt\n",
    "plt.plot(forecast.iloc[-336:-1,-1])"
   ]
  }
 ],
 "metadata": {
  "kernelspec": {
   "display_name": "Python 3.9.12 ('base')",
   "language": "python",
   "name": "python3"
  },
  "language_info": {
   "codemirror_mode": {
    "name": "ipython",
    "version": 3
   },
   "file_extension": ".py",
   "mimetype": "text/x-python",
   "name": "python",
   "nbconvert_exporter": "python",
   "pygments_lexer": "ipython3",
   "version": "3.9.12"
  },
  "orig_nbformat": 4,
  "vscode": {
   "interpreter": {
    "hash": "aca97298169bc572c3ec470dd784ff61581ee58d26737e53ade8f07e1a83bfa3"
   }
  }
 },
 "nbformat": 4,
 "nbformat_minor": 2
}
